{
 "cells": [
  {
   "cell_type": "markdown",
   "metadata": {},
   "source": [
    "# Stepik success rate"
   ]
  },
  {
   "cell_type": "markdown",
   "metadata": {},
   "source": [
    "__Построить модель предсказания сколько студентов закончит курс__"
   ]
  },
  {
   "cell_type": "markdown",
   "metadata": {},
   "source": [
    "### Author: Стурейко Игорь\n",
    "### Project: Stepik success rate"
   ]
  },
  {
   "cell_type": "markdown",
   "metadata": {},
   "source": [
    "## Описание данных\n",
    "\n",
    "__events_train.csv__ - данные о действиях, которые совершают студенты со стэпами\n",
    "\n",
    "* step_id - id стэпа\n",
    "* user_id - анонимизированный id юзера\n",
    "* timestamp - время наступления события в формате unix date\n",
    "* action - событие, возможные значения: \n",
    "    * discovered - пользователь перешел на стэп\n",
    "    * viewed - просмотр шага,\n",
    "    * started_attempt - начало попытки решить шаг, ранее нужно было явно нажать на кнопку - начать решение, перед тем как приступить к решению практического шага\n",
    "    * passed - удачное решение практического шага\n",
    "\n",
    "\n",
    "__submissions_train.csv__ - данные о времени и статусах сабмитов к практическим заданиям\n",
    "\n",
    "* step_id - id стэпа\n",
    "* timestamp - время отправки решения в формате unix date\n",
    "* submission_status - статус решения\n",
    "* user_id - анонимизированный id юзера"
   ]
  },
  {
   "cell_type": "code",
   "execution_count": null,
   "metadata": {},
   "outputs": [],
   "source": []
  }
 ],
 "metadata": {
  "kernelspec": {
   "display_name": "Python 3",
   "language": "python",
   "name": "python3"
  },
  "language_info": {
   "codemirror_mode": {
    "name": "ipython",
    "version": 3
   },
   "file_extension": ".py",
   "mimetype": "text/x-python",
   "name": "python",
   "nbconvert_exporter": "python",
   "pygments_lexer": "ipython3",
   "version": "3.8.5"
  }
 },
 "nbformat": 4,
 "nbformat_minor": 4
}
